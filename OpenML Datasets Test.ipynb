{
 "cells": [
  {
   "cell_type": "code",
   "execution_count": 28,
   "metadata": {},
   "outputs": [],
   "source": [
    "import pandas as pd\n",
    "from datacleaner import autoclean\n",
    "from concurrent.futures import ProcessPoolExecutor\n",
    "\n",
    "from sklearn.metrics import classification_report, f1_score, accuracy_score\n",
    "from sklearn.model_selection import train_test_split\n",
    "\n",
    "from tpot import TPOTClassifier, TPOTRegressor"
   ]
  },
  {
   "cell_type": "code",
   "execution_count": 33,
   "metadata": {},
   "outputs": [],
   "source": [
    "def automl(url, target, metric, baseline):\n",
    "    header = 0 if isinstance(target, str) else None\n",
    "    df = pd.read_csv(url, sep=None, engine='python', header=header)\n",
    "    df = autoclean(df)\n",
    "\n",
    "    X = df.drop(target, axis=1)\n",
    "    y = df[target]\n",
    "    X_train, X_test, y_train, y_test = train_test_split(X, y, test_size=0.2, random_state=42)\n",
    "\n",
    "    try:\n",
    "        model = TPOTClassifier(generations=3, population_size=50, verbosity=0)\n",
    "        model.fit(X_train, y_train)\n",
    "        y_pred = model.predict(X_test)\n",
    "    except:\n",
    "        model = TPOTRegressor(generations=3, population_size=50, verbosity=0)\n",
    "        model.fit(X_train, y_train)\n",
    "        y_pred = model.predict(X_test)\n",
    "    \n",
    "    metric_func = accuracy_score if metric == 'acc' else f1_score \n",
    "    try:\n",
    "        result = metric_func(y_test, y_pred)\n",
    "    except:\n",
    "        result = metric_func(y_test, y_pred, average='micro')\n",
    "    \n",
    "    name = url.split('/')[-1]\n",
    "    print(f'dataset: {name} - baseline: {baseline} - metric: {metric} - automl result: {result}')"
   ]
  },
  {
   "cell_type": "code",
   "execution_count": 35,
   "metadata": {},
   "outputs": [
    {
     "name": "stdout",
     "output_type": "stream",
     "text": [
      "dataset: php50jXam - baseline: 0.9964 - metric: f1 - automl result: 1.0\n",
      "dataset: dataset_50_tic-tac-toe.arff - baseline: 1 - metric: f1 - automl result: 1.0\n",
      "dataset: vineyard.arff - baseline: 0.8655 - metric: f1 - automl result: 1.0\n",
      "dataset: dataset_61_iris.arff - baseline: 0.9599 - metric: f1 - automl result: 1.0\n",
      "dataset: hepatitis.data - baseline: 0.903 - metric: acc - automl result: 0.8064516129032258\n",
      "dataset: processed.cleveland.data - baseline: 0.9 - metric: acc - automl result: 0.5573770491803278\n",
      "dataset: breast-cancer-wisconsin.data - baseline: 0.983 - metric: acc - automl result: 0.9714285714285714\n",
      "dataset: breast-cancer.data - baseline: 0.762 - metric: acc - automl result: 0.6896551724137931\n",
      "dataset: phpZrCzJR - baseline: 0.9882 - metric: f1 - automl result: 0.996512207274539\n"
     ]
    }
   ],
   "source": [
    "datasets = [\n",
    "    ('https://www.openml.org/data/get_csv/50/dataset_50_tic-tac-toe.arff', 'Class', 'f1', 1),\n",
    "    ('https://www.openml.org/data/get_csv/1586223/php50jXam', 'Class', 'f1', 0.9964),\n",
    "    ('https://www.openml.org/data/get_csv/16787463/phpZrCzJR', 'Target', 'f1', 0.9882),\n",
    "    ('https://www.openml.org/data/get_csv/53247/vineyard.arff', 'binaryClass', 'f1', 0.8655),\n",
    "    ('https://www.openml.org/data/get_csv/61/dataset_61_iris.arff', 'class', 'f1', 0.9599),\n",
    "    ('http://archive.ics.uci.edu/ml/machine-learning-databases/hepatitis/hepatitis.data', 0, 'acc', 0.903),\n",
    "    ('http://archive.ics.uci.edu/ml/machine-learning-databases/heart-disease/processed.cleveland.data', 13, 'acc', 0.900),\n",
    "    ('http://archive.ics.uci.edu/ml/machine-learning-databases/ionosphere/ionosphere.data', 34, 'acc', 0.987),\n",
    "    ('http://archive.ics.uci.edu/ml/machine-learning-databases/breast-cancer-wisconsin/breast-cancer-wisconsin.data', 10, 'acc', 0.983),\n",
    "    ('http://archive.ics.uci.edu/ml/machine-learning-databases/breast-cancer/breast-cancer.data', 0, 'acc', 0.762),\n",
    "]\n",
    "\n",
    "with ProcessPoolExecutor(max_workers=3) as pool:\n",
    "    for url, target, metric, baseline in datasets:\n",
    "        pool.submit(automl, url, target, metric, baseline)"
   ]
  },
  {
   "cell_type": "code",
   "execution_count": 36,
   "metadata": {},
   "outputs": [
    {
     "name": "stdout",
     "output_type": "stream",
     "text": [
      "dataset: ionosphere.data - baseline: 0.987 - metric: acc - automl result: 0.9295774647887324\n"
     ]
    }
   ],
   "source": [
    "automl('http://archive.ics.uci.edu/ml/machine-learning-databases/ionosphere/ionosphere.data', 34, 'acc', 0.987)"
   ]
  },
  {
   "cell_type": "code",
   "execution_count": null,
   "metadata": {},
   "outputs": [],
   "source": []
  }
 ],
 "metadata": {
  "kernelspec": {
   "display_name": "Python 3",
   "language": "python",
   "name": "python3"
  },
  "language_info": {
   "codemirror_mode": {
    "name": "ipython",
    "version": 3
   },
   "file_extension": ".py",
   "mimetype": "text/x-python",
   "name": "python",
   "nbconvert_exporter": "python",
   "pygments_lexer": "ipython3",
   "version": "3.6.5"
  }
 },
 "nbformat": 4,
 "nbformat_minor": 2
}
