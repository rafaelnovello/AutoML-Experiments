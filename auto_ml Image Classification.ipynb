{
 "cells": [
  {
   "cell_type": "code",
   "execution_count": 3,
   "metadata": {},
   "outputs": [
    {
     "name": "stdout",
     "output_type": "stream",
     "text": [
      "Welcome to auto_ml! We're about to go through and make sense of your data using machine learning, and give you a production-ready pipeline to get predictions with.\n",
      "\n",
      "If you have any issues, or new feature ideas, let us know at http://auto.ml\n",
      "You are running on version 2.9.10\n",
      "Now using the model training_params that you passed in:\n",
      "{}\n",
      "After overwriting our defaults with your values, here are the final params that will be used to initialize the model:\n",
      "{'presort': False, 'learning_rate': 0.1, 'warm_start': True}\n",
      "Running basic data cleaning\n",
      "Fitting DataFrameVectorizer\n",
      "Now using the model training_params that you passed in:\n",
      "{}\n",
      "After overwriting our defaults with your values, here are the final params that will be used to initialize the model:\n",
      "{'presort': False, 'learning_rate': 0.1, 'warm_start': True}\n",
      "\n",
      "\n",
      "********************************************************************************************\n",
      "About to fit the pipeline for the model GradientBoostingClassifier to predict target\n",
      "Started at:\n",
      "2018-05-16 11:46:05\n",
      "[1] random_holdout_set_from_training_data's score is: 0.667\n",
      "[2] random_holdout_set_from_training_data's score is: 0.722\n",
      "[3] random_holdout_set_from_training_data's score is: 0.759\n",
      "[4] random_holdout_set_from_training_data's score is: 0.778\n",
      "[5] random_holdout_set_from_training_data's score is: 0.796\n",
      "[6] random_holdout_set_from_training_data's score is: 0.815\n",
      "[7] random_holdout_set_from_training_data's score is: 0.815\n",
      "[8] random_holdout_set_from_training_data's score is: 0.833\n",
      "[9] random_holdout_set_from_training_data's score is: 0.833\n",
      "[10] random_holdout_set_from_training_data's score is: 0.833\n",
      "[11] random_holdout_set_from_training_data's score is: 0.852\n",
      "[12] random_holdout_set_from_training_data's score is: 0.833\n",
      "[13] random_holdout_set_from_training_data's score is: 0.852\n",
      "[14] random_holdout_set_from_training_data's score is: 0.852\n",
      "[15] random_holdout_set_from_training_data's score is: 0.87\n",
      "[16] random_holdout_set_from_training_data's score is: 0.87\n",
      "[17] random_holdout_set_from_training_data's score is: 0.889\n",
      "[18] random_holdout_set_from_training_data's score is: 0.87\n",
      "[19] random_holdout_set_from_training_data's score is: 0.87\n",
      "[20] random_holdout_set_from_training_data's score is: 0.87\n",
      "[21] random_holdout_set_from_training_data's score is: 0.852\n",
      "[22] random_holdout_set_from_training_data's score is: 0.833\n",
      "[23] random_holdout_set_from_training_data's score is: 0.833\n",
      "[24] random_holdout_set_from_training_data's score is: 0.87\n",
      "[25] random_holdout_set_from_training_data's score is: 0.852\n",
      "[26] random_holdout_set_from_training_data's score is: 0.852\n",
      "[27] random_holdout_set_from_training_data's score is: 0.852\n",
      "[28] random_holdout_set_from_training_data's score is: 0.852\n",
      "[29] random_holdout_set_from_training_data's score is: 0.852\n",
      "[30] random_holdout_set_from_training_data's score is: 0.852\n",
      "[31] random_holdout_set_from_training_data's score is: 0.852\n",
      "[32] random_holdout_set_from_training_data's score is: 0.852\n",
      "[33] random_holdout_set_from_training_data's score is: 0.852\n",
      "[34] random_holdout_set_from_training_data's score is: 0.852\n",
      "[35] random_holdout_set_from_training_data's score is: 0.852\n",
      "[36] random_holdout_set_from_training_data's score is: 0.852\n",
      "[37] random_holdout_set_from_training_data's score is: 0.852\n",
      "The number of estimators that were the best for this training dataset: 17\n",
      "The best score on the holdout set: 0.8888888888888888\n",
      "Finished training the pipeline!\n",
      "Total training time:\n",
      "0:00:01\n",
      "\n",
      "\n",
      "Here are the results from our GradientBoostingClassifier\n",
      "predicting target\n",
      "Calculating feature responses, for advanced analytics.\n"
     ]
    },
    {
     "data": {
      "text/plain": [
       "<auto_ml.predictor.Predictor at 0x7f02bb47f198>"
      ]
     },
     "execution_count": 3,
     "metadata": {},
     "output_type": "execute_result"
    }
   ],
   "source": [
    "import matplotlib.pyplot as plt\n",
    "import pandas as pd\n",
    "from auto_ml import Predictor\n",
    "import dill\n",
    "from sklearn.model_selection import train_test_split\n",
    "from sklearn import datasets\n",
    "\n",
    "# import the digits dataset\n",
    "digits = datasets.load_digits()\n",
    "\n",
    "# To apply a classifier on this data, we need to flatten the image, to\n",
    "# turn the data in a (samples, feature) matrix:\n",
    "n_samples = len(digits.images)\n",
    "data = digits.images.reshape((n_samples, -1))\n",
    "\n",
    "\n",
    "df = pd.DataFrame(data[0:,])\n",
    "df_temp = pd.DataFrame(digits.target[0:,])\n",
    "df_temp.columns = ['target']\n",
    "\n",
    "df = df.merge(df_temp,left_index= True, right_index=True)\n",
    "\n",
    "column_descriptions = {\n",
    "  'target':'output'\n",
    "}\n",
    "\n",
    "df_train, df_test = train_test_split(df, test_size=0.8, random_state=42)\n",
    "\n",
    "ml_predictor = Predictor(type_of_estimator='classifier', column_descriptions=column_descriptions )\n",
    "\n",
    "ml_predictor.train(df_train)"
   ]
  },
  {
   "cell_type": "code",
   "execution_count": 7,
   "metadata": {},
   "outputs": [],
   "source": [
    "y_pred = ml_predictor.predict(df_test.drop('target', axis=1))"
   ]
  },
  {
   "cell_type": "code",
   "execution_count": 8,
   "metadata": {},
   "outputs": [],
   "source": [
    "from sklearn.metrics import classification_report"
   ]
  },
  {
   "cell_type": "code",
   "execution_count": 11,
   "metadata": {},
   "outputs": [
    {
     "name": "stdout",
     "output_type": "stream",
     "text": [
      "             precision    recall  f1-score   support\n",
      "\n",
      "          0       0.88      0.99      0.93       134\n",
      "          1       0.75      0.86      0.80       144\n",
      "          2       0.82      0.75      0.78       144\n",
      "          3       0.95      0.77      0.85       147\n",
      "          4       0.90      0.71      0.80       140\n",
      "          5       0.93      0.84      0.88       149\n",
      "          6       0.93      0.93      0.93       150\n",
      "          7       0.77      0.87      0.82       149\n",
      "          8       0.68      0.79      0.73       135\n",
      "          9       0.80      0.81      0.80       146\n",
      "\n",
      "avg / total       0.84      0.83      0.83      1438\n",
      "\n"
     ]
    }
   ],
   "source": [
    "print(classification_report(df_test.target, y_pred))"
   ]
  },
  {
   "cell_type": "code",
   "execution_count": 12,
   "metadata": {},
   "outputs": [],
   "source": [
    "def unpickle(file):\n",
    "    import pickle\n",
    "    with open(file, 'rb') as fo:\n",
    "        imgs = pickle.load(fo, encoding='bytes')\n",
    "    return imgs"
   ]
  },
  {
   "cell_type": "code",
   "execution_count": 29,
   "metadata": {},
   "outputs": [],
   "source": [
    "imgs = unpickle('/home/rafael/Downloads/cifar-10-python/cifar-10-batches-py/data_batch_1')\n",
    "labels = unpickle('/home/rafael/Downloads/cifar-10-python/cifar-10-batches-py/batches.meta')"
   ]
  },
  {
   "cell_type": "code",
   "execution_count": 30,
   "metadata": {},
   "outputs": [
    {
     "name": "stderr",
     "output_type": "stream",
     "text": [
      "/home/rafael/.virtualenvs/playground/lib/python3.6/site-packages/sklearn/model_selection/_split.py:2026: FutureWarning: From version 0.21, test_size will always complement train_size unless both are specified.\n",
      "  FutureWarning)\n"
     ]
    }
   ],
   "source": [
    "data = pd.DataFrame(imgs[b'data'])\n",
    "data['target'] = y = imgs[b'labels']\n",
    "\n",
    "df_train, df_test = train_test_split(data, train_size=0.8)"
   ]
  },
  {
   "cell_type": "code",
   "execution_count": 20,
   "metadata": {},
   "outputs": [
    {
     "name": "stdout",
     "output_type": "stream",
     "text": [
      "Welcome to auto_ml! We're about to go through and make sense of your data using machine learning, and give you a production-ready pipeline to get predictions with.\n",
      "\n",
      "If you have any issues, or new feature ideas, let us know at http://auto.ml\n",
      "You are running on version 2.9.10\n",
      "Now using the model training_params that you passed in:\n",
      "{}\n",
      "After overwriting our defaults with your values, here are the final params that will be used to initialize the model:\n",
      "{'presort': False, 'learning_rate': 0.1, 'warm_start': True}\n",
      "Running basic data cleaning\n",
      "Fitting DataFrameVectorizer\n",
      "Now using the model training_params that you passed in:\n",
      "{}\n",
      "After overwriting our defaults with your values, here are the final params that will be used to initialize the model:\n",
      "{'presort': False, 'learning_rate': 0.1, 'warm_start': True}\n",
      "\n",
      "\n",
      "********************************************************************************************\n",
      "About to fit the pipeline for the model GradientBoostingClassifier to predict target\n",
      "Started at:\n",
      "2018-05-16 13:21:08\n",
      "[1] random_holdout_set_from_training_data's score is: 0.279\n",
      "[2] random_holdout_set_from_training_data's score is: 0.294\n",
      "[3] random_holdout_set_from_training_data's score is: 0.307\n",
      "[4] random_holdout_set_from_training_data's score is: 0.314\n",
      "[5] random_holdout_set_from_training_data's score is: 0.323\n",
      "[6] random_holdout_set_from_training_data's score is: 0.327\n",
      "[7] random_holdout_set_from_training_data's score is: 0.331\n",
      "[8] random_holdout_set_from_training_data's score is: 0.331\n",
      "[9] random_holdout_set_from_training_data's score is: 0.342\n",
      "[10] random_holdout_set_from_training_data's score is: 0.341\n",
      "[11] random_holdout_set_from_training_data's score is: 0.345\n",
      "[12] random_holdout_set_from_training_data's score is: 0.344\n",
      "[13] random_holdout_set_from_training_data's score is: 0.355\n",
      "[14] random_holdout_set_from_training_data's score is: 0.352\n",
      "[15] random_holdout_set_from_training_data's score is: 0.352\n",
      "[16] random_holdout_set_from_training_data's score is: 0.352\n",
      "[17] random_holdout_set_from_training_data's score is: 0.358\n",
      "[18] random_holdout_set_from_training_data's score is: 0.362\n",
      "[19] random_holdout_set_from_training_data's score is: 0.366\n",
      "[20] random_holdout_set_from_training_data's score is: 0.365\n",
      "[21] random_holdout_set_from_training_data's score is: 0.361\n",
      "[22] random_holdout_set_from_training_data's score is: 0.368\n",
      "[23] random_holdout_set_from_training_data's score is: 0.374\n",
      "[24] random_holdout_set_from_training_data's score is: 0.373\n",
      "[25] random_holdout_set_from_training_data's score is: 0.377\n",
      "[26] random_holdout_set_from_training_data's score is: 0.375\n",
      "[27] random_holdout_set_from_training_data's score is: 0.373\n",
      "[28] random_holdout_set_from_training_data's score is: 0.378\n",
      "[29] random_holdout_set_from_training_data's score is: 0.378\n",
      "[30] random_holdout_set_from_training_data's score is: 0.383\n",
      "[31] random_holdout_set_from_training_data's score is: 0.39\n",
      "[32] random_holdout_set_from_training_data's score is: 0.391\n",
      "[33] random_holdout_set_from_training_data's score is: 0.385\n",
      "[34] random_holdout_set_from_training_data's score is: 0.392\n",
      "[35] random_holdout_set_from_training_data's score is: 0.392\n",
      "[36] random_holdout_set_from_training_data's score is: 0.394\n",
      "[37] random_holdout_set_from_training_data's score is: 0.397\n",
      "[38] random_holdout_set_from_training_data's score is: 0.404\n",
      "[39] random_holdout_set_from_training_data's score is: 0.403\n",
      "[40] random_holdout_set_from_training_data's score is: 0.404\n",
      "[41] random_holdout_set_from_training_data's score is: 0.398\n",
      "[42] random_holdout_set_from_training_data's score is: 0.403\n",
      "[43] random_holdout_set_from_training_data's score is: 0.403\n",
      "[44] random_holdout_set_from_training_data's score is: 0.407\n",
      "[45] random_holdout_set_from_training_data's score is: 0.412\n",
      "[46] random_holdout_set_from_training_data's score is: 0.413\n",
      "[47] random_holdout_set_from_training_data's score is: 0.414\n",
      "[48] random_holdout_set_from_training_data's score is: 0.412\n",
      "[49] random_holdout_set_from_training_data's score is: 0.416\n",
      "[50] random_holdout_set_from_training_data's score is: 0.418\n",
      "[52] random_holdout_set_from_training_data's score is: 0.417\n",
      "[54] random_holdout_set_from_training_data's score is: 0.416\n",
      "[56] random_holdout_set_from_training_data's score is: 0.421\n",
      "[58] random_holdout_set_from_training_data's score is: 0.422\n",
      "[60] random_holdout_set_from_training_data's score is: 0.42\n",
      "[62] random_holdout_set_from_training_data's score is: 0.422\n",
      "[64] random_holdout_set_from_training_data's score is: 0.42\n",
      "[66] random_holdout_set_from_training_data's score is: 0.422\n",
      "[68] random_holdout_set_from_training_data's score is: 0.42\n",
      "[70] random_holdout_set_from_training_data's score is: 0.422\n",
      "[72] random_holdout_set_from_training_data's score is: 0.425\n",
      "[74] random_holdout_set_from_training_data's score is: 0.428\n",
      "[76] random_holdout_set_from_training_data's score is: 0.424\n",
      "[78] random_holdout_set_from_training_data's score is: 0.432\n",
      "[80] random_holdout_set_from_training_data's score is: 0.437\n",
      "[82] random_holdout_set_from_training_data's score is: 0.432\n",
      "[84] random_holdout_set_from_training_data's score is: 0.428\n",
      "[86] random_holdout_set_from_training_data's score is: 0.433\n",
      "[88] random_holdout_set_from_training_data's score is: 0.434\n",
      "[90] random_holdout_set_from_training_data's score is: 0.428\n",
      "[92] random_holdout_set_from_training_data's score is: 0.428\n",
      "[94] random_holdout_set_from_training_data's score is: 0.432\n",
      "[96] random_holdout_set_from_training_data's score is: 0.438\n",
      "[98] random_holdout_set_from_training_data's score is: 0.437\n",
      "[100] random_holdout_set_from_training_data's score is: 0.436\n",
      "[103] random_holdout_set_from_training_data's score is: 0.438\n",
      "[106] random_holdout_set_from_training_data's score is: 0.444\n",
      "[109] random_holdout_set_from_training_data's score is: 0.442\n",
      "[112] random_holdout_set_from_training_data's score is: 0.442\n",
      "[115] random_holdout_set_from_training_data's score is: 0.442\n",
      "[118] random_holdout_set_from_training_data's score is: 0.442\n",
      "[121] random_holdout_set_from_training_data's score is: 0.444\n",
      "[124] random_holdout_set_from_training_data's score is: 0.442\n",
      "[127] random_holdout_set_from_training_data's score is: 0.44\n",
      "[130] random_holdout_set_from_training_data's score is: 0.442\n",
      "[133] random_holdout_set_from_training_data's score is: 0.441\n",
      "[136] random_holdout_set_from_training_data's score is: 0.447\n",
      "[139] random_holdout_set_from_training_data's score is: 0.447\n",
      "[142] random_holdout_set_from_training_data's score is: 0.45\n",
      "[145] random_holdout_set_from_training_data's score is: 0.447\n",
      "[148] random_holdout_set_from_training_data's score is: 0.447\n",
      "[151] random_holdout_set_from_training_data's score is: 0.443\n",
      "[154] random_holdout_set_from_training_data's score is: 0.443\n",
      "[157] random_holdout_set_from_training_data's score is: 0.45\n",
      "[160] random_holdout_set_from_training_data's score is: 0.449\n",
      "[163] random_holdout_set_from_training_data's score is: 0.452\n",
      "[166] random_holdout_set_from_training_data's score is: 0.45\n",
      "[169] random_holdout_set_from_training_data's score is: 0.452\n",
      "[172] random_holdout_set_from_training_data's score is: 0.454\n",
      "[175] random_holdout_set_from_training_data's score is: 0.453\n",
      "[178] random_holdout_set_from_training_data's score is: 0.455\n",
      "[181] random_holdout_set_from_training_data's score is: 0.458\n",
      "[184] random_holdout_set_from_training_data's score is: 0.458\n",
      "[187] random_holdout_set_from_training_data's score is: 0.457\n",
      "[190] random_holdout_set_from_training_data's score is: 0.457\n",
      "[193] random_holdout_set_from_training_data's score is: 0.458\n",
      "[196] random_holdout_set_from_training_data's score is: 0.46\n",
      "[199] random_holdout_set_from_training_data's score is: 0.46\n",
      "[202] random_holdout_set_from_training_data's score is: 0.461\n",
      "[205] random_holdout_set_from_training_data's score is: 0.458\n",
      "[208] random_holdout_set_from_training_data's score is: 0.462\n",
      "[211] random_holdout_set_from_training_data's score is: 0.462\n",
      "[214] random_holdout_set_from_training_data's score is: 0.466\n",
      "[217] random_holdout_set_from_training_data's score is: 0.464\n",
      "[220] random_holdout_set_from_training_data's score is: 0.463\n",
      "[223] random_holdout_set_from_training_data's score is: 0.463\n",
      "[226] random_holdout_set_from_training_data's score is: 0.462\n",
      "[229] random_holdout_set_from_training_data's score is: 0.464\n"
     ]
    },
    {
     "name": "stdout",
     "output_type": "stream",
     "text": [
      "[232] random_holdout_set_from_training_data's score is: 0.458\n",
      "[235] random_holdout_set_from_training_data's score is: 0.46\n",
      "[238] random_holdout_set_from_training_data's score is: 0.462\n",
      "[241] random_holdout_set_from_training_data's score is: 0.461\n",
      "[244] random_holdout_set_from_training_data's score is: 0.464\n",
      "[247] random_holdout_set_from_training_data's score is: 0.465\n",
      "[250] random_holdout_set_from_training_data's score is: 0.464\n",
      "[255] random_holdout_set_from_training_data's score is: 0.466\n",
      "[260] random_holdout_set_from_training_data's score is: 0.464\n",
      "[265] random_holdout_set_from_training_data's score is: 0.462\n",
      "[270] random_holdout_set_from_training_data's score is: 0.468\n",
      "[275] random_holdout_set_from_training_data's score is: 0.468\n",
      "[280] random_holdout_set_from_training_data's score is: 0.471\n",
      "[285] random_holdout_set_from_training_data's score is: 0.469\n",
      "[290] random_holdout_set_from_training_data's score is: 0.471\n",
      "[295] random_holdout_set_from_training_data's score is: 0.468\n",
      "[300] random_holdout_set_from_training_data's score is: 0.471\n",
      "[305] random_holdout_set_from_training_data's score is: 0.47\n",
      "[310] random_holdout_set_from_training_data's score is: 0.469\n",
      "[315] random_holdout_set_from_training_data's score is: 0.469\n",
      "[320] random_holdout_set_from_training_data's score is: 0.469\n",
      "[325] random_holdout_set_from_training_data's score is: 0.468\n",
      "[330] random_holdout_set_from_training_data's score is: 0.472\n",
      "[335] random_holdout_set_from_training_data's score is: 0.469\n",
      "[340] random_holdout_set_from_training_data's score is: 0.468\n",
      "[345] random_holdout_set_from_training_data's score is: 0.474\n",
      "[350] random_holdout_set_from_training_data's score is: 0.472\n",
      "[355] random_holdout_set_from_training_data's score is: 0.47\n",
      "[360] random_holdout_set_from_training_data's score is: 0.473\n",
      "[365] random_holdout_set_from_training_data's score is: 0.47\n",
      "[370] random_holdout_set_from_training_data's score is: 0.474\n",
      "[375] random_holdout_set_from_training_data's score is: 0.472\n",
      "[380] random_holdout_set_from_training_data's score is: 0.476\n",
      "[385] random_holdout_set_from_training_data's score is: 0.474\n",
      "[390] random_holdout_set_from_training_data's score is: 0.475\n",
      "[395] random_holdout_set_from_training_data's score is: 0.472\n",
      "[400] random_holdout_set_from_training_data's score is: 0.478\n",
      "[405] random_holdout_set_from_training_data's score is: 0.48\n",
      "[410] random_holdout_set_from_training_data's score is: 0.483\n",
      "[415] random_holdout_set_from_training_data's score is: 0.48\n",
      "[420] random_holdout_set_from_training_data's score is: 0.478\n",
      "[425] random_holdout_set_from_training_data's score is: 0.477\n",
      "[430] random_holdout_set_from_training_data's score is: 0.478\n",
      "[435] random_holdout_set_from_training_data's score is: 0.477\n",
      "[440] random_holdout_set_from_training_data's score is: 0.477\n",
      "[445] random_holdout_set_from_training_data's score is: 0.477\n",
      "[450] random_holdout_set_from_training_data's score is: 0.478\n",
      "[455] random_holdout_set_from_training_data's score is: 0.477\n",
      "[460] random_holdout_set_from_training_data's score is: 0.479\n",
      "[465] random_holdout_set_from_training_data's score is: 0.48\n",
      "[470] random_holdout_set_from_training_data's score is: 0.482\n",
      "[475] random_holdout_set_from_training_data's score is: 0.479\n",
      "[480] random_holdout_set_from_training_data's score is: 0.475\n",
      "[485] random_holdout_set_from_training_data's score is: 0.477\n",
      "[490] random_holdout_set_from_training_data's score is: 0.478\n",
      "[495] random_holdout_set_from_training_data's score is: 0.473\n",
      "[500] random_holdout_set_from_training_data's score is: 0.474\n",
      "[510] random_holdout_set_from_training_data's score is: 0.477\n",
      "[520] random_holdout_set_from_training_data's score is: 0.477\n",
      "The number of estimators that were the best for this training dataset: 410\n",
      "The best score on the holdout set: 0.48333333333333334\n",
      "Finished training the pipeline!\n",
      "Total training time:\n",
      "5:52:44\n",
      "\n",
      "\n",
      "Here are the results from our GradientBoostingClassifier\n",
      "predicting target\n",
      "Calculating feature responses, for advanced analytics.\n"
     ]
    },
    {
     "name": "stderr",
     "output_type": "stream",
     "text": [
      "/home/rafael/.virtualenvs/playground/lib/python3.6/site-packages/sklearn/model_selection/_split.py:2026: FutureWarning: From version 0.21, test_size will always complement train_size unless both are specified.\n",
      "  FutureWarning)\n"
     ]
    },
    {
     "data": {
      "text/plain": [
       "<auto_ml.predictor.Predictor at 0x7f02bb340518>"
      ]
     },
     "execution_count": 20,
     "metadata": {},
     "output_type": "execute_result"
    }
   ],
   "source": [
    "column_descriptions = {\n",
    "  'target':'output'\n",
    "}\n",
    "\n",
    "ml_predictor = Predictor(type_of_estimator='classifier', column_descriptions=column_descriptions )\n",
    "\n",
    "ml_predictor.train(df_train)"
   ]
  },
  {
   "cell_type": "code",
   "execution_count": 31,
   "metadata": {},
   "outputs": [
    {
     "name": "stdout",
     "output_type": "stream",
     "text": [
      "             precision    recall  f1-score   support\n",
      "\n",
      "          0       0.31      0.40      0.35       177\n",
      "          1       0.38      0.36      0.37       204\n",
      "          2       0.28      0.20      0.24       207\n",
      "          3       0.23      0.12      0.16       229\n",
      "          4       0.27      0.28      0.28       201\n",
      "          5       0.27      0.27      0.27       205\n",
      "          6       0.28      0.45      0.35       201\n",
      "          7       0.28      0.23      0.25       181\n",
      "          8       0.39      0.45      0.42       201\n",
      "          9       0.38      0.40      0.39       194\n",
      "\n",
      "avg / total       0.31      0.31      0.30      2000\n",
      "\n"
     ]
    }
   ],
   "source": [
    "from sklearn.metrics import classification_report\n",
    "\n",
    "y_pred = ml_predictor.predict(df_test.drop('target', axis=1))\n",
    "\n",
    "print(classification_report(df_test.target, y_pred))"
   ]
  },
  {
   "cell_type": "code",
   "execution_count": 22,
   "metadata": {},
   "outputs": [],
   "source": [
    "imgs = unpickle('/home/rafael/Downloads/cifar-10-python/cifar-10-batches-py/data_batch_2')"
   ]
  },
  {
   "cell_type": "code",
   "execution_count": 26,
   "metadata": {},
   "outputs": [
    {
     "name": "stderr",
     "output_type": "stream",
     "text": [
      "/home/rafael/.virtualenvs/playground/lib/python3.6/site-packages/sklearn/model_selection/_split.py:2026: FutureWarning: From version 0.21, test_size will always complement train_size unless both are specified.\n",
      "  FutureWarning)\n"
     ]
    }
   ],
   "source": [
    "data = pd.DataFrame(imgs[b'data'])\n",
    "data['target'] = y = imgs[b'labels']\n",
    "\n",
    "df_train, df_test = train_test_split(data, train_size=0.8)"
   ]
  },
  {
   "cell_type": "code",
   "execution_count": 27,
   "metadata": {},
   "outputs": [
    {
     "name": "stdout",
     "output_type": "stream",
     "text": [
      "Welcome to auto_ml! We're about to go through and make sense of your data using machine learning, and give you a production-ready pipeline to get predictions with.\n",
      "\n",
      "If you have any issues, or new feature ideas, let us know at http://auto.ml\n",
      "You are running on version 2.9.10\n",
      "Now using the model training_params that you passed in:\n",
      "{}\n",
      "After overwriting our defaults with your values, here are the final params that will be used to initialize the model:\n",
      "{'presort': False, 'learning_rate': 0.1, 'warm_start': True}\n",
      "Running basic data cleaning\n",
      "Fitting DataFrameVectorizer\n",
      "Now using the model training_params that you passed in:\n",
      "{}\n",
      "After overwriting our defaults with your values, here are the final params that will be used to initialize the model:\n",
      "{'presort': False, 'learning_rate': 0.1, 'warm_start': True}\n",
      "\n",
      "\n",
      "********************************************************************************************\n",
      "About to fit the pipeline for the model GradientBoostingClassifier to predict target\n",
      "Started at:\n",
      "2018-05-17 10:44:16\n",
      "[1] random_holdout_set_from_training_data's score is: 0.284\n",
      "[2] random_holdout_set_from_training_data's score is: 0.298\n",
      "[3] random_holdout_set_from_training_data's score is: 0.322\n",
      "Heard KeyboardInterrupt. Stopping training, and using the best checkpointed GradientBoosting model\n",
      "The number of estimators that were the best for this training dataset: 3\n",
      "The best score on the holdout set: 0.3225\n",
      "Finished training the pipeline!\n",
      "Total training time:\n",
      "0:02:23\n",
      "\n",
      "\n",
      "Here are the results from our GradientBoostingClassifier\n",
      "predicting target\n",
      "Calculating feature responses, for advanced analytics.\n"
     ]
    },
    {
     "name": "stderr",
     "output_type": "stream",
     "text": [
      "/home/rafael/.virtualenvs/playground/lib/python3.6/site-packages/sklearn/model_selection/_split.py:2026: FutureWarning: From version 0.21, test_size will always complement train_size unless both are specified.\n",
      "  FutureWarning)\n"
     ]
    },
    {
     "data": {
      "text/plain": [
       "<auto_ml.predictor.Predictor at 0x7f02bb340518>"
      ]
     },
     "execution_count": 27,
     "metadata": {},
     "output_type": "execute_result"
    }
   ],
   "source": [
    "ml_predictor.train(df_train)"
   ]
  },
  {
   "cell_type": "code",
   "execution_count": null,
   "metadata": {},
   "outputs": [],
   "source": []
  }
 ],
 "metadata": {
  "kernelspec": {
   "display_name": "Python 3",
   "language": "python",
   "name": "python3"
  },
  "language_info": {
   "codemirror_mode": {
    "name": "ipython",
    "version": 3
   },
   "file_extension": ".py",
   "mimetype": "text/x-python",
   "name": "python",
   "nbconvert_exporter": "python",
   "pygments_lexer": "ipython3",
   "version": "3.6.5"
  }
 },
 "nbformat": 4,
 "nbformat_minor": 2
}
