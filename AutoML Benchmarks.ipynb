{
 "cells": [
  {
   "cell_type": "code",
   "execution_count": 10,
   "metadata": {},
   "outputs": [],
   "source": [
    "import pandas as pd\n",
    "from datacleaner import autoclean\n",
    "from concurrent.futures import ProcessPoolExecutor\n",
    "\n",
    "from sklearn.metrics import classification_report, f1_score, accuracy_score\n",
    "from sklearn.model_selection import train_test_split\n",
    "\n",
    "from autosklearn.classification import AutoSklearnClassifier\n",
    "from tpot import TPOTClassifier, TPOTRegressor\n",
    "from auto_ml import Predictor\n",
    "from pmlb import fetch_data"
   ]
  },
  {
   "cell_type": "code",
   "execution_count": 11,
   "metadata": {},
   "outputs": [],
   "source": [
    "classification_datasets = ['allbp', 'allhyper', 'car', 'hypothyroid']"
   ]
  },
  {
   "cell_type": "code",
   "execution_count": 14,
   "metadata": {},
   "outputs": [],
   "source": [
    "def tpot(name):\n",
    "    X, y = fetch_data(name, return_X_y=True, local_cache_dir='../data/')\n",
    "    X_train, X_test, y_train, y_test = train_test_split(X, y, test_size=0.2, random_state=42)\n",
    "    \n",
    "    model = TPOTClassifier(generations=3, population_size=50, verbosity=0)\n",
    "    model.fit(X_train, y_train)\n",
    "    y_pred = model.predict(X_test)\n",
    "    \n",
    "    try:\n",
    "        result = f1_score(y_test, y_pred)\n",
    "    except:\n",
    "        result = f1_score(y_test, y_pred, average='micro')\n",
    "        \n",
    "    print(f'dataset: {name} - metric: f1 score - tpot result: {result}')"
   ]
  },
  {
   "cell_type": "code",
   "execution_count": 15,
   "metadata": {},
   "outputs": [],
   "source": [
    "def autosklearn(name):\n",
    "    X, y = fetch_data(name, return_X_y=True, local_cache_dir='../data/')\n",
    "    X_train, X_test, y_train, y_test = train_test_split(X, y, test_size=0.2, random_state=42)\n",
    "    \n",
    "    model = AutoSklearnClassifier()\n",
    "    model.fit(X_train, y_train)\n",
    "    y_pred = model.predict(X_test)\n",
    "    \n",
    "    try:\n",
    "        result = f1_score(y_test, y_pred)\n",
    "    except:\n",
    "        result = f1_score(y_test, y_pred, average='micro')\n",
    "        \n",
    "    print(f'dataset: {name} - metric: f1 score - autosklearn result: {result}')"
   ]
  },
  {
   "cell_type": "code",
   "execution_count": 16,
   "metadata": {},
   "outputs": [
    {
     "name": "stdout",
     "output_type": "stream",
     "text": [
      "[WARNING] [2018-06-04 17:26:09,631:smac.intensification.intensification.Intensifier] Challenger was the same as the current incumbent; Skipping challenger\n",
      "[WARNING] [2018-06-04 17:26:09,631:smac.intensification.intensification.Intensifier] Challenger was the same as the current incumbent; Skipping challenger\n",
      "dataset: allhyper - metric: f1 score - tpot result: 0.9867549668874173\n",
      "[WARNING] [2018-06-04 17:38:34,509:smac.intensification.intensification.Intensifier] Challenger was the same as the current incumbent; Skipping challenger\n",
      "[WARNING] [2018-06-04 17:38:34,509:smac.intensification.intensification.Intensifier] Challenger was the same as the current incumbent; Skipping challenger\n",
      "dataset: allbp - metric: f1 score - tpot result: 0.9721854304635762\n",
      "dataset: car - metric: f1 score - tpot result: 0.9971098265895953\n",
      "[WARNING] [2018-06-04 17:52:02,079:smac.intensification.intensification.Intensifier] Challenger was the same as the current incumbent; Skipping challenger\n",
      "[WARNING] [2018-06-04 17:52:02,079:smac.intensification.intensification.Intensifier] Challenger was the same as the current incumbent; Skipping challenger\n",
      "[WARNING] [2018-06-04 18:06:21,588:smac.intensification.intensification.Intensifier] Challenger was the same as the current incumbent; Skipping challenger\n",
      "[WARNING] [2018-06-04 18:06:21,588:smac.intensification.intensification.Intensifier] Challenger was the same as the current incumbent; Skipping challenger\n",
      "dataset: allbp - metric: f1 score - autosklearn result: 0.9735099337748344\n",
      "dataset: hypothyroid - metric: f1 score - tpot result: 0.9875104079933389\n",
      "[WARNING] [2018-06-04 18:34:33,022:smac.intensification.intensification.Intensifier] Challenger was the same as the current incumbent; Skipping challenger\n",
      "[WARNING] [2018-06-04 18:34:33,022:smac.intensification.intensification.Intensifier] Challenger was the same as the current incumbent; Skipping challenger\n",
      "dataset: allhyper - metric: f1 score - autosklearn result: 0.9867549668874173\n",
      "dataset: car - metric: f1 score - autosklearn result: 0.9913294797687862\n",
      "dataset: hypothyroid - metric: f1 score - autosklearn result: 0.9891576313594662\n"
     ]
    }
   ],
   "source": [
    "with ProcessPoolExecutor(max_workers=3) as pool:\n",
    "    for name in classification_datasets:\n",
    "        pool.submit(tpot, name)\n",
    "        pool.submit(autosklearn, name)"
   ]
  },
  {
   "cell_type": "code",
   "execution_count": null,
   "metadata": {},
   "outputs": [],
   "source": []
  }
 ],
 "metadata": {
  "kernelspec": {
   "display_name": "Python 3",
   "language": "python",
   "name": "python3"
  },
  "language_info": {
   "codemirror_mode": {
    "name": "ipython",
    "version": 3
   },
   "file_extension": ".py",
   "mimetype": "text/x-python",
   "name": "python",
   "nbconvert_exporter": "python",
   "pygments_lexer": "ipython3",
   "version": "3.6.5"
  }
 },
 "nbformat": 4,
 "nbformat_minor": 2
}
